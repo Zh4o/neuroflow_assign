{
 "cells": [
  {
   "cell_type": "markdown",
   "metadata": {},
   "source": [
    "> **NeuroFlow Project**\n",
    ">\n",
    "> Zhao Ma\n",
    ">\n",
    "> 6/3/2019"
   ]
  },
  {
   "cell_type": "markdown",
   "metadata": {},
   "source": [
    "# Neuroflow: Tracking Patient Progress "
   ]
  },
  {
   "cell_type": "code",
   "execution_count": 1,
   "metadata": {},
   "outputs": [
    {
     "data": {
      "text/html": [
       "<script>\n",
       "code_show=true; \n",
       "function code_toggle() {\n",
       " if (code_show){\n",
       " $('div.input').hide();\n",
       " } else {\n",
       " $('div.input').show();\n",
       " }\n",
       " code_show = !code_show\n",
       "} \n",
       "$( document ).ready(code_toggle);\n",
       "</script>\n",
       "The raw code for this IPython notebook is by default hidden for easier reading.\n",
       "To toggle on/off the raw code, click <a href=\"javascript:code_toggle()\">here</a>."
      ],
      "text/plain": [
       "<IPython.core.display.HTML object>"
      ]
     },
     "execution_count": 1,
     "metadata": {},
     "output_type": "execute_result"
    }
   ],
   "source": [
    "#Import dependencies and packages for analysis\n",
    "import pandas as pd #pandas has very useful data structures\n",
    "import numpy as np #numpy supports pandas\n",
    "import seaborn as sns #seaborn for visualization\n",
    "import matplotlib.pyplot as plt #matplotlib for plotting\n",
    "import matplotlib.dates as mdates\n",
    "from IPython.display import display, HTML\n",
    "import datetime as dt\n",
    "\n",
    "from IPython.display import HTML\n",
    "\n",
    "HTML('''<script>\n",
    "code_show=true; \n",
    "function code_toggle() {\n",
    " if (code_show){\n",
    " $('div.input').hide();\n",
    " } else {\n",
    " $('div.input').show();\n",
    " }\n",
    " code_show = !code_show\n",
    "} \n",
    "$( document ).ready(code_toggle);\n",
    "</script>\n",
    "The raw code for this IPython notebook is by default hidden for easier reading.\n",
    "To toggle on/off the raw code, click <a href=\"javascript:code_toggle()\">here</a>.''')"
   ]
  },
  {
   "cell_type": "markdown",
   "metadata": {},
   "source": [
    "### Introduction\n",
    "\n",
    "Patient progress is difficult to evaluate. With Neuroflow's innovative app, patients can now submit logs about how they feel throughout the day. The question is, what can patients and providers do with this data and what can they learn from it? \n",
    "\n",
    "*Goal*: To visualize progress for patients and providers through four metrics: \n",
    "- Mood\n",
    "- Sleep\n",
    "- Rumination\n",
    "- Stress"
   ]
  },
  {
   "cell_type": "markdown",
   "metadata": {},
   "source": [
    "\n",
    "#### What does the data look like?"
   ]
  },
  {
   "cell_type": "code",
   "execution_count": 2,
   "metadata": {},
   "outputs": [],
   "source": [
    "mood = pd.read_csv('./data/mood.csv')\n",
    "rumination = pd.read_csv('./data/ruminatory_stress.csv')\n",
    "sleep = pd.read_csv('./data/sleep.csv')\n",
    "stress = pd.read_csv('./data/stress.csv')"
   ]
  },
  {
   "cell_type": "code",
   "execution_count": 3,
   "metadata": {},
   "outputs": [
    {
     "name": "stdout",
     "output_type": "stream",
     "text": [
      "<class 'pandas.core.frame.DataFrame'>\n",
      "RangeIndex: 56 entries, 0 to 55\n",
      "Data columns (total 2 columns):\n",
      "date     56 non-null int64\n",
      "value    56 non-null int64\n",
      "dtypes: int64(2)\n",
      "memory usage: 976.0 bytes\n"
     ]
    },
    {
     "data": {
      "text/plain": [
       "None"
      ]
     },
     "metadata": {},
     "output_type": "display_data"
    },
    {
     "name": "stdout",
     "output_type": "stream",
     "text": [
      "<class 'pandas.core.frame.DataFrame'>\n",
      "RangeIndex: 29 entries, 0 to 28\n",
      "Data columns (total 2 columns):\n",
      "date     29 non-null int64\n",
      "value    29 non-null int64\n",
      "dtypes: int64(2)\n",
      "memory usage: 544.0 bytes\n"
     ]
    },
    {
     "data": {
      "text/plain": [
       "None"
      ]
     },
     "metadata": {},
     "output_type": "display_data"
    }
   ],
   "source": [
    "display(mood.info())\n",
    "display(rumination.info()) #sleep and stress have the same number (29) of entries as rumination"
   ]
  },
  {
   "cell_type": "markdown",
   "metadata": {},
   "source": [
    "This is a very small dataset, so using it for prediction purposes is unlikely. We will try to fit the data with a readable and understandable model.\n",
    "\n",
    "I am not sure whether the four datasets represent:\n",
    "   - Before treatment (baseline)\n",
    "   - During treatment (treatment happens within the timeframe of the data collected)\n",
    "   - After treatment\n",
    "   \n",
    "In each scenario, knowing whether the treatment had occurred is important, because it is necessary to compare the treatment data with the baseline data to determine whether the patient has made progress.\n",
    "\n",
    "To analyze the dataset, I thought about two major areas:\n",
    "1. Has the patient improved over the logging period?\n",
    "2. What patterns and hypotheses can we see in the data that could be used to support patient progress?\n",
    "\n",
    "I think visualizing the progress is most important, this notebook is divided into:\n",
    "- Patient Progress Analysis\n",
    "- Supplementary Data Analysis"
   ]
  },
  {
   "cell_type": "markdown",
   "metadata": {},
   "source": [
    "### Patient Progress Analysis"
   ]
  },
  {
   "cell_type": "markdown",
   "metadata": {},
   "source": [
    "First, let's change the epoch (int64) timestamp into a more readable format:"
   ]
  },
  {
   "cell_type": "code",
   "execution_count": 4,
   "metadata": {},
   "outputs": [],
   "source": [
    "mood['date'] = pd.to_datetime(mood['date'], unit = 's')\n",
    "rumination['date'] = pd.to_datetime(rumination['date'], unit = 's')\n",
    "sleep['date'] = pd.to_datetime(sleep['date'], unit = 's')\n",
    "stress['date'] = pd.to_datetime(stress['date'], unit = 's')"
   ]
  },
  {
   "cell_type": "code",
   "execution_count": 5,
   "metadata": {},
   "outputs": [
    {
     "data": {
      "text/html": [
       "<div>\n",
       "<style scoped>\n",
       "    .dataframe tbody tr th:only-of-type {\n",
       "        vertical-align: middle;\n",
       "    }\n",
       "\n",
       "    .dataframe tbody tr th {\n",
       "        vertical-align: top;\n",
       "    }\n",
       "\n",
       "    .dataframe thead th {\n",
       "        text-align: right;\n",
       "    }\n",
       "</style>\n",
       "<table border=\"1\" class=\"dataframe\">\n",
       "  <thead>\n",
       "    <tr style=\"text-align: right;\">\n",
       "      <th></th>\n",
       "      <th>date</th>\n",
       "      <th>value</th>\n",
       "    </tr>\n",
       "  </thead>\n",
       "  <tbody>\n",
       "    <tr>\n",
       "      <th>0</th>\n",
       "      <td>2018-03-12 12:46:32</td>\n",
       "      <td>3</td>\n",
       "    </tr>\n",
       "    <tr>\n",
       "      <th>1</th>\n",
       "      <td>2018-03-12 18:43:46</td>\n",
       "      <td>3</td>\n",
       "    </tr>\n",
       "    <tr>\n",
       "      <th>2</th>\n",
       "      <td>2018-03-12 19:06:34</td>\n",
       "      <td>3</td>\n",
       "    </tr>\n",
       "    <tr>\n",
       "      <th>3</th>\n",
       "      <td>2018-03-13 13:49:55</td>\n",
       "      <td>3</td>\n",
       "    </tr>\n",
       "    <tr>\n",
       "      <th>4</th>\n",
       "      <td>2018-03-13 18:43:58</td>\n",
       "      <td>3</td>\n",
       "    </tr>\n",
       "  </tbody>\n",
       "</table>\n",
       "</div>"
      ],
      "text/plain": [
       "                 date  value\n",
       "0 2018-03-12 12:46:32      3\n",
       "1 2018-03-12 18:43:46      3\n",
       "2 2018-03-12 19:06:34      3\n",
       "3 2018-03-13 13:49:55      3\n",
       "4 2018-03-13 18:43:58      3"
      ]
     },
     "metadata": {},
     "output_type": "display_data"
    }
   ],
   "source": [
    "display(mood.head())"
   ]
  },
  {
   "cell_type": "markdown",
   "metadata": {},
   "source": [
    "Let's also check out the time for the beginning and end of the entries"
   ]
  },
  {
   "cell_type": "code",
   "execution_count": 6,
   "metadata": {},
   "outputs": [
    {
     "name": "stdout",
     "output_type": "stream",
     "text": [
      "2018-03-12 12:46:32\n",
      "2018-07-22 13:08:29\n",
      "\n",
      "2018-03-13 00:02:00\n",
      "2018-07-09 20:03:59\n",
      "\n",
      "2018-03-12 12:46:32\n",
      "2018-07-22 13:08:29\n",
      "\n",
      "2018-03-13 00:02:00\n",
      "2018-07-09 20:03:59\n"
     ]
    }
   ],
   "source": [
    "print(min(mood['date']))\n",
    "print(max(mood['date']))\n",
    "print()\n",
    "print(min(rumination['date']))\n",
    "print(max(rumination['date']))\n",
    "print()\n",
    "print(min(sleep['date']))\n",
    "print(max(sleep['date']))\n",
    "print()\n",
    "print(min(stress['date']))\n",
    "print(max(stress['date']))"
   ]
  },
  {
   "cell_type": "markdown",
   "metadata": {},
   "source": [
    "A few months is a relatively long amount of time. Interestingly, the patient only logged 29 entries for sleep, stress, and rumination and 56 entries for mood over 4 months. Thus, the patient is on average logging much less than one time a day. We will need to explore the skewedness of the data / how uniform it is. I suspect it is not very uniform, as it is up to the patient whether they want to complete an exercise.\n",
    "\n",
    "When we think about progress over a treatment period of a few months, I am going to assume that daily measurement fluctuations (multiple entries in one day) in each of the four categories is not as important as weekly or monthly measurements. \n",
    "\n",
    "I hypothesize that when a patient is bored, they will repeatedly log their information on the app. Potentially, this hypothesis can be further explored with a \"boredom\" measurement. I also hypothesize that rumination at night can lead to repeat logging (explored in *Supplementary Data Analysis*) and it could lead to multiple entries as well. Thus, only the average of each day will be necessary for our purposes in our progress analysis."
   ]
  },
  {
   "cell_type": "markdown",
   "metadata": {},
   "source": [
    "Let's update each dataset to reflect this assumption:"
   ]
  },
  {
   "cell_type": "code",
   "execution_count": 7,
   "metadata": {},
   "outputs": [
    {
     "data": {
      "text/html": [
       "<div>\n",
       "<style scoped>\n",
       "    .dataframe tbody tr th:only-of-type {\n",
       "        vertical-align: middle;\n",
       "    }\n",
       "\n",
       "    .dataframe tbody tr th {\n",
       "        vertical-align: top;\n",
       "    }\n",
       "\n",
       "    .dataframe thead th {\n",
       "        text-align: right;\n",
       "    }\n",
       "</style>\n",
       "<table border=\"1\" class=\"dataframe\">\n",
       "  <thead>\n",
       "    <tr style=\"text-align: right;\">\n",
       "      <th></th>\n",
       "      <th>date</th>\n",
       "      <th>value</th>\n",
       "    </tr>\n",
       "  </thead>\n",
       "  <tbody>\n",
       "    <tr>\n",
       "      <th>0</th>\n",
       "      <td>2018-03-12</td>\n",
       "      <td>3.0</td>\n",
       "    </tr>\n",
       "    <tr>\n",
       "      <th>1</th>\n",
       "      <td>2018-03-13</td>\n",
       "      <td>3.0</td>\n",
       "    </tr>\n",
       "    <tr>\n",
       "      <th>2</th>\n",
       "      <td>2018-03-14</td>\n",
       "      <td>3.0</td>\n",
       "    </tr>\n",
       "    <tr>\n",
       "      <th>3</th>\n",
       "      <td>2018-03-15</td>\n",
       "      <td>2.0</td>\n",
       "    </tr>\n",
       "    <tr>\n",
       "      <th>4</th>\n",
       "      <td>2018-03-16</td>\n",
       "      <td>3.0</td>\n",
       "    </tr>\n",
       "  </tbody>\n",
       "</table>\n",
       "</div>"
      ],
      "text/plain": [
       "        date  value\n",
       "0 2018-03-12    3.0\n",
       "1 2018-03-13    3.0\n",
       "2 2018-03-14    3.0\n",
       "3 2018-03-15    2.0\n",
       "4 2018-03-16    3.0"
      ]
     },
     "execution_count": 7,
     "metadata": {},
     "output_type": "execute_result"
    }
   ],
   "source": [
    "mood_day = pd.DataFrame({'date': mood['date'].values.astype('datetime64[D]'), 'value': mood['value']})\n",
    "mood_day = mood_day.groupby(['date']).mean().reset_index()\n",
    "\n",
    "rum_day = pd.DataFrame({'date': rumination['date'].values.astype('datetime64[D]'), 'value': rumination['value']})\n",
    "rum_day = rum_day.groupby(['date']).mean().reset_index()\n",
    "\n",
    "sleep_day = pd.DataFrame({'date': sleep['date'].values.astype('datetime64[D]'), 'value': sleep['value']})\n",
    "sleep_day = sleep_day.groupby(['date']).mean().reset_index()\n",
    "\n",
    "stress_day = pd.DataFrame({'date': stress['date'].values.astype('datetime64[D]'), 'value': stress['value']})\n",
    "stress_day = stress_day.groupby(['date']).mean().reset_index()\n",
    "\n",
    "mood_day.head()"
   ]
  },
  {
   "cell_type": "markdown",
   "metadata": {},
   "source": [
    "Let's visualize on a per-week basis and see the what distribution of values are like. First, I convert the dates into a per-week basis:"
   ]
  },
  {
   "cell_type": "code",
   "execution_count": 8,
   "metadata": {
    "scrolled": false
   },
   "outputs": [
    {
     "data": {
      "text/html": [
       "<div>\n",
       "<style scoped>\n",
       "    .dataframe tbody tr th:only-of-type {\n",
       "        vertical-align: middle;\n",
       "    }\n",
       "\n",
       "    .dataframe tbody tr th {\n",
       "        vertical-align: top;\n",
       "    }\n",
       "\n",
       "    .dataframe thead th {\n",
       "        text-align: right;\n",
       "    }\n",
       "</style>\n",
       "<table border=\"1\" class=\"dataframe\">\n",
       "  <thead>\n",
       "    <tr style=\"text-align: right;\">\n",
       "      <th></th>\n",
       "      <th>date</th>\n",
       "      <th>value</th>\n",
       "    </tr>\n",
       "  </thead>\n",
       "  <tbody>\n",
       "    <tr>\n",
       "      <th>0</th>\n",
       "      <td>2018-03-11</td>\n",
       "      <td>3.0</td>\n",
       "    </tr>\n",
       "    <tr>\n",
       "      <th>1</th>\n",
       "      <td>2018-03-11</td>\n",
       "      <td>3.0</td>\n",
       "    </tr>\n",
       "    <tr>\n",
       "      <th>2</th>\n",
       "      <td>2018-03-11</td>\n",
       "      <td>3.0</td>\n",
       "    </tr>\n",
       "    <tr>\n",
       "      <th>3</th>\n",
       "      <td>2018-03-11</td>\n",
       "      <td>2.0</td>\n",
       "    </tr>\n",
       "    <tr>\n",
       "      <th>4</th>\n",
       "      <td>2018-03-11</td>\n",
       "      <td>3.0</td>\n",
       "    </tr>\n",
       "  </tbody>\n",
       "</table>\n",
       "</div>"
      ],
      "text/plain": [
       "        date  value\n",
       "0 2018-03-11    3.0\n",
       "1 2018-03-11    3.0\n",
       "2 2018-03-11    3.0\n",
       "3 2018-03-11    2.0\n",
       "4 2018-03-11    3.0"
      ]
     },
     "execution_count": 8,
     "metadata": {},
     "output_type": "execute_result"
    }
   ],
   "source": [
    "mood_week = mood_day.groupby(pd.Grouper(key='date',freq='W',label='left')).apply(lambda x: x['value']).reset_index()\n",
    "del mood_week['level_1'] \n",
    "\n",
    "rum_week = rum_day.groupby(pd.Grouper(key='date',freq='W',label='left')).apply(lambda x: x['value']).reset_index()\n",
    "del rum_week['level_1']\n",
    "\n",
    "sleep_week = sleep_day.groupby(pd.Grouper(key='date',freq='W',label='left')).apply(lambda x: x['value']).reset_index()\n",
    "del sleep_week['level_1']\n",
    "\n",
    "stress_week = stress_day.groupby(pd.Grouper(key='date',freq='W',label='left')).apply(lambda x: x['value']).reset_index()\n",
    "del stress_week['level_1']\n",
    "\n",
    "mood_week.head()"
   ]
  },
  {
   "cell_type": "markdown",
   "metadata": {},
   "source": [
    "Now, using a box/swarm plot, we can see whether progress is happening through in the four measurements. Ideally,\n",
    "- the median mood rating is increasing over time.\n",
    "- the median rumination severity is decreasing over time.\n",
    "- the median sleep rating is increasing over time.\n",
    "- the median stress severity is decreasing over time.\n",
    "\n",
    "I chose a box/swarm plot, because first, it allows us to visualize the meaning of each datapoint (the patient made an effort to log it) and second, it shows us a distribution for outliers and the 25th - median - 75th quartile. Since it viewed over weeks, we have a chance to see if the patient is making any progress. \n",
    "\n",
    "However, these are relative assumptions, baseline measurements are needed in addition to treatment measurements. Only through a comparison of baseline and treatment data, can we assume whether there has been progress."
   ]
  },
  {
   "cell_type": "code",
   "execution_count": null,
   "metadata": {
    "scrolled": false
   },
   "outputs": [
    {
     "data": {
      "text/plain": [
       "[(0.5, 5.5)]"
      ]
     },
     "execution_count": 9,
     "metadata": {},
     "output_type": "execute_result"
    },
    {
     "data": {
      "image/png": "[encoded data removed]",
      "text/plain": [
       "<Figure size 1080x576 with 1 Axes>"
      ]
     },
     "metadata": {
      "needs_background": "light"
     },
     "output_type": "display_data"
    }
   ],
   "source": [
    "fig, ax = plt.subplots(figsize = (15,8))\n",
    "fig = sns.boxplot(x=\"date\", y=\"value\", data=mood_week, ax=ax, palette=sns.light_palette(\"purple\"))\n",
    "fig = sns.swarmplot(x=\"date\", y=\"value\", data=mood_week, color=\"red\", edgecolor=\"grey\")\n",
    "\n",
    "x_dates = mood_week['date'].dt.strftime('%b-%d').unique()\n",
    "ax.set(title=\"Mood Measurements over Four Months by Week\")\n",
    "ax.set_xticklabels(labels=x_dates, rotation=45, ha='right')\n",
    "ax.set(xlabel='Week of', ylabel='Mood Rating')\n",
    "ax.set(ylim=(0.5, 5.5))"
   ]
  },
  {
   "cell_type": "code",
   "execution_count": null,
   "metadata": {},
   "outputs": [
    {
     "data": {
      "text/plain": [
       "[(0.5, 5.5)]"
      ]
     },
     "execution_count": 10,
     "metadata": {},
     "output_type": "execute_result"
    },
    {
     "data": {
      "image/png": "[encoded data removed]",
      "text/plain": [
       "<Figure size 1080x576 with 1 Axes>"
      ]
     },
     "metadata": {
      "needs_background": "light"
     },
     "output_type": "display_data"
    }
   ],
   "source": [
    "fig, ax = plt.subplots(figsize = (15,8))\n",
    "fig = sns.boxplot(x=\"date\", y=\"value\", data=rum_week, ax=ax, palette=sns.light_palette(\"purple\"))\n",
    "fig = sns.swarmplot(x=\"date\", y=\"value\", data=rum_week, color=\"red\", edgecolor=\"grey\")\n",
    "\n",
    "x_dates = rum_week['date'].dt.strftime('%b-%d').unique()\n",
    "ax.set_xticklabels(labels=x_dates, rotation=45, ha='right')\n",
    "ax.set(title=\"Rumination Measurements over Four Months by Week\")\n",
    "ax.set(xlabel='Week of', ylabel='Rumination Severity')\n",
    "ax.set(ylim=(0.5, 5.5))"
   ]
  },
  {
   "cell_type": "code",
   "execution_count": null,
   "metadata": {},
   "outputs": [
    {
     "data": {
      "text/plain": [
       "[(0.5, 5.5)]"
      ]
     },
     "execution_count": 11,
     "metadata": {},
     "output_type": "execute_result"
    },
    {
     "data": {
      "image/png": "[encoded data removed]",
      "text/plain": [
       "<Figure size 1080x576 with 1 Axes>"
      ]
     },
     "metadata": {
      "needs_background": "light"
     },
     "output_type": "display_data"
    }
   ],
   "source": [
    "fig, ax = plt.subplots(figsize = (15,8))\n",
    "fig = sns.boxplot(x=\"date\", y=\"value\", data=sleep_week, ax=ax, palette=sns.light_palette(\"purple\"))\n",
    "fig = sns.swarmplot(x=\"date\", y=\"value\", data=sleep_week, color=\"red\", edgecolor=\"grey\")\n",
    "\n",
    "x_dates = sleep_week['date'].dt.strftime('%b-%d').unique()\n",
    "ax.set(title=\"Sleep Measurements over Four Months by Week\")\n",
    "ax.set_xticklabels(labels=x_dates, rotation=45, ha='right')\n",
    "ax.set(xlabel='Week of', ylabel='Sleep Rating')\n",
    "ax.set(ylim=(0.5, 5.5))"
   ]
  },
  {
   "cell_type": "code",
   "execution_count": null,
   "metadata": {},
   "outputs": [
    {
     "data": {
      "text/plain": [
       "[(0.5, 5.5)]"
      ]
     },
     "execution_count": 12,
     "metadata": {},
     "output_type": "execute_result"
    },
    {
     "data": {
      "image/png": "[encoded data removed]",
      "text/plain": [
       "<Figure size 1080x576 with 1 Axes>"
      ]
     },
     "metadata": {
      "needs_background": "light"
     },
     "output_type": "display_data"
    }
   ],
   "source": [
    "fig, ax = plt.subplots(figsize = (15,8))\n",
    "fig = sns.boxplot(x=\"date\", y=\"value\", data=stress_week, ax=ax, palette=sns.light_palette(\"purple\"))\n",
    "fig = sns.swarmplot(x=\"date\", y=\"value\", data=stress_week, color=\"red\", edgecolor=\"grey\")\n",
    "\n",
    "x_dates = stress_week['date'].dt.strftime('%b-%d').unique()\n",
    "ax.set(title=\"Stress Measurements over Four Months By Week\")\n",
    "ax.set_xticklabels(labels=x_dates, rotation=45, ha='right')\n",
    "ax.set(xlabel='Week of', ylabel='Stress Severity')\n",
    "ax.set(ylim=(0.5, 5.5))"
   ]
  },
  {
   "cell_type": "markdown",
   "metadata": {},
   "source": [
    "By plotting the data by week using a box plot/swarm plot, we get an distributed view of the each log entry every week. We see a steep drop off in number of logs after the first 2-3 weeks for each measurement. Furthermore, it looks like there is very few data points from the first week of April to the first week of June, which increases the range of possibilities for the patient's actual subjective feeling. The weeks the patient did not enter data are omitted (May 20th, May 27th, June 10th, June 23rd). However, the single data points from April to June suggest improvement in mood, rumination, and stress. \n",
    "\n",
    "This finding leads me to have a hypothesis. For this particular dataset, if the patient is feeling well, they will not use the app as often. To test, we will need to experiment with the app on healthy patients and compare usage patterns between healthy users and patients.\n",
    "\n",
    "Because of the lack of data in some weeks, let's now take a look at the monthly value distributions to visualize and determine monthly progress."
   ]
  },
  {
   "cell_type": "code",
   "execution_count": null,
   "metadata": {},
   "outputs": [
    {
     "data": {
      "text/html": [
       "<div>\n",
       "<style scoped>\n",
       "    .dataframe tbody tr th:only-of-type {\n",
       "        vertical-align: middle;\n",
       "    }\n",
       "\n",
       "    .dataframe tbody tr th {\n",
       "        vertical-align: top;\n",
       "    }\n",
       "\n",
       "    .dataframe thead th {\n",
       "        text-align: right;\n",
       "    }\n",
       "</style>\n",
       "<table border=\"1\" class=\"dataframe\">\n",
       "  <thead>\n",
       "    <tr style=\"text-align: right;\">\n",
       "      <th></th>\n",
       "      <th>date</th>\n",
       "      <th>value</th>\n",
       "    </tr>\n",
       "  </thead>\n",
       "  <tbody>\n",
       "    <tr>\n",
       "      <th>0</th>\n",
       "      <td>2018-03-31</td>\n",
       "      <td>3.0</td>\n",
       "    </tr>\n",
       "    <tr>\n",
       "      <th>1</th>\n",
       "      <td>2018-03-31</td>\n",
       "      <td>3.0</td>\n",
       "    </tr>\n",
       "    <tr>\n",
       "      <th>2</th>\n",
       "      <td>2018-03-31</td>\n",
       "      <td>3.0</td>\n",
       "    </tr>\n",
       "    <tr>\n",
       "      <th>3</th>\n",
       "      <td>2018-03-31</td>\n",
       "      <td>2.0</td>\n",
       "    </tr>\n",
       "    <tr>\n",
       "      <th>4</th>\n",
       "      <td>2018-03-31</td>\n",
       "      <td>3.0</td>\n",
       "    </tr>\n",
       "  </tbody>\n",
       "</table>\n",
       "</div>"
      ],
      "text/plain": [
       "        date  value\n",
       "0 2018-03-31    3.0\n",
       "1 2018-03-31    3.0\n",
       "2 2018-03-31    3.0\n",
       "3 2018-03-31    2.0\n",
       "4 2018-03-31    3.0"
      ]
     },
     "execution_count": 13,
     "metadata": {},
     "output_type": "execute_result"
    }
   ],
   "source": [
    "mood_month = mood_day.groupby(pd.Grouper(key='date', freq='M')).apply(lambda x: x['value']).reset_index()\n",
    "del mood_month['level_1']\n",
    "\n",
    "rum_month = rum_day.groupby(pd.Grouper(key='date', freq='M')).apply(lambda x: x['value']).reset_index()\n",
    "del rum_month['level_1']\n",
    "\n",
    "sleep_month = sleep_day.groupby(pd.Grouper(key='date', freq='M')).apply(lambda x: x['value']).reset_index()\n",
    "del sleep_month['level_1']\n",
    "\n",
    "stress_month = stress_day.groupby(pd.Grouper(key='date', freq='M')).apply(lambda x: x['value']).reset_index()\n",
    "del stress_month['level_1']\n",
    "\n",
    "mood_month.head()"
   ]
  },
  {
   "cell_type": "code",
   "execution_count": null,
   "metadata": {},
   "outputs": [
    {
     "data": {
      "text/plain": [
       "[(0.5, 5.5)]"
      ]
     },
     "execution_count": 14,
     "metadata": {},
     "output_type": "execute_result"
    },
    {
     "data": {
      "image/png": "[encoded data removed]",
      "text/plain": [
       "<Figure size 1080x576 with 1 Axes>"
      ]
     },
     "metadata": {
      "needs_background": "light"
     },
     "output_type": "display_data"
    }
   ],
   "source": [
    "fig, ax = plt.subplots(figsize = (15,8))\n",
    "fig = sns.boxplot(x=\"date\", y=\"value\", data=mood_month, ax=ax, palette=sns.light_palette(\"blue\"))\n",
    "fig = sns.swarmplot(x=\"date\", y=\"value\", data=mood_month, color=\"red\", edgecolor=\"grey\")\n",
    "\n",
    "x_dates = mood_month['date'].dt.strftime('%B').unique()\n",
    "ax.set(title=\"Mood Measurements over Four Months by Month\")\n",
    "ax.set_xticklabels(labels=x_dates, rotation=0, ha='center')\n",
    "ax.set(xlabel='Month', ylabel='Mood Rating')\n",
    "ax.set(ylim=(0.5, 5.5))"
   ]
  },
  {
   "cell_type": "markdown",
   "metadata": {},
   "source": [
    "In the monthly analysis for mood, no progress is really seen. Especially, the data from April and May are scarce and do not hold as much weight as the March data. Similarly:"
   ]
  },
  {
   "cell_type": "code",
   "execution_count": null,
   "metadata": {},
   "outputs": [
    {
     "data": {
      "text/plain": [
       "[(0.5, 5.5)]"
      ]
     },
     "execution_count": 15,
     "metadata": {},
     "output_type": "execute_result"
    },
    {
     "data": {
      "image/png": "[encoded data removed]",
      "text/plain": [
       "<Figure size 1080x576 with 1 Axes>"
      ]
     },
     "metadata": {
      "needs_background": "light"
     },
     "output_type": "display_data"
    }
   ],
   "source": [
    "fig, ax = plt.subplots(figsize = (15,8))\n",
    "fig = sns.boxplot(x=\"date\", y=\"value\", data=sleep_month, ax=ax, palette=sns.light_palette(\"blue\"))\n",
    "fig = sns.swarmplot(x=\"date\", y=\"value\", data=sleep_month, color=\"red\", edgecolor=\"grey\")\n",
    "\n",
    "x_dates = sleep_month['date'].dt.strftime('%B').unique()\n",
    "ax.set(title=\"Sleep Measurements over Four Months by Month\")\n",
    "ax.set_xticklabels(labels=x_dates, rotation=0, ha='center')\n",
    "ax.set(xlabel='Month', ylabel='Sleep Rating')\n",
    "ax.set(ylim=(0.5, 5.5))"
   ]
  },
  {
   "cell_type": "code",
   "execution_count": null,
   "metadata": {},
   "outputs": [
    {
     "data": {
      "text/plain": [
       "[(0.5, 5.5)]"
      ]
     },
     "execution_count": 16,
     "metadata": {},
     "output_type": "execute_result"
    },
    {
     "data": {
      "image/png": "[encoded data removed]",
      "text/plain": [
       "<Figure size 1080x576 with 1 Axes>"
      ]
     },
     "metadata": {
      "needs_background": "light"
     },
     "output_type": "display_data"
    }
   ],
   "source": [
    "fig, ax = plt.subplots(figsize = (15,8))\n",
    "fig = sns.boxplot(x=\"date\", y=\"value\", data=rum_month, ax=ax, palette=sns.light_palette(\"blue\"))\n",
    "fig = sns.swarmplot(x=\"date\", y=\"value\", data=rum_month, color=\"red\", edgecolor=\"grey\")\n",
    "\n",
    "x_dates = rum_month['date'].dt.strftime('%B').unique()\n",
    "ax.set(title=\"Rumination Measurements over Four Months by Month\")\n",
    "ax.set_xticklabels(labels=x_dates, rotation=0, ha='center')\n",
    "ax.set(xlabel='Month', ylabel='Rumination Severity')\n",
    "ax.set(ylim=(0.5, 5.5))"
   ]
  },
  {
   "cell_type": "markdown",
   "metadata": {},
   "source": [
    "The skewedness of the data towards March makes tracking monthly progress difficult."
   ]
  },
  {
   "cell_type": "code",
   "execution_count": null,
   "metadata": {},
   "outputs": [
    {
     "data": {
      "text/plain": [
       "[(0.5, 5.5)]"
      ]
     },
     "execution_count": 17,
     "metadata": {},
     "output_type": "execute_result"
    },
    {
     "data": {
      "image/png": "[encoded data removed]",
      "text/plain": [
       "<Figure size 1080x576 with 1 Axes>"
      ]
     },
     "metadata": {
      "needs_background": "light"
     },
     "output_type": "display_data"
    }
   ],
   "source": [
    "fig, ax = plt.subplots(figsize = (15,8))\n",
    "fig = sns.boxplot(x=\"date\", y=\"value\", data=stress_month, ax=ax, palette=sns.light_palette(\"blue\"))\n",
    "fig = sns.swarmplot(x=\"date\", y=\"value\", data=stress_month, color=\"red\", edgecolor=\"grey\")\n",
    "\n",
    "x_dates = stress_month['date'].dt.strftime('%B').unique()\n",
    "ax.set(title=\"Stress Measurements over Four Months by Month\")\n",
    "ax.set_xticklabels(labels=x_dates, rotation=0, ha='center')\n",
    "ax.set(xlabel='Month', ylabel='Stress Severity')\n",
    "ax.set(ylim=(0.5, 5.5))"
   ]
  },
  {
   "cell_type": "markdown",
   "metadata": {},
   "source": [
    "Once again, the lack of data points in April, May, and July makes the data difficult to analyze, but it seems like the stress was highest during the month of March and has seen improvement since."
   ]
  },
  {
   "cell_type": "markdown",
   "metadata": {},
   "source": [
    "### Supplementary Data Analysis"
   ]
  },
  {
   "cell_type": "markdown",
   "metadata": {},
   "source": [
    "The patient progress analysis ignored the multiple entries that may happen during the day. I had several lingering questions:\n",
    "- When in the day does the patient usually log a measurement? \n",
    "- How does a person's measurements change over the day?\n"
   ]
  },
  {
   "cell_type": "markdown",
   "metadata": {},
   "source": [
    "To explore the first question, let's use a histogram on the number of logs per hour."
   ]
  },
  {
   "cell_type": "code",
   "execution_count": null,
   "metadata": {},
   "outputs": [
    {
     "data": {
      "image/png": "[encoded data removed]",
      "text/plain": [
       "<Figure size 1080x360 with 1 Axes>"
      ]
     },
     "metadata": {
      "needs_background": "light"
     },
     "output_type": "display_data"
    }
   ],
   "source": [
    "plt.figure(figsize=(15,5))\n",
    "plt.hist([t.hour for t in mood['date']], bins = np.arange(24)-0.5, rwidth = 0.8)\n",
    "plt.xticks(np.arange(0,24 , step=1))\n",
    "plt.xlabel('Military Time (hr)')\n",
    "plt.ylabel('# of Mood Measurements')\n",
    "plt.title('At what time did the patient log a mood measurement?')\n",
    "plt.axis([-0.6, 24, 0, 25])\n",
    "\n",
    "plt.show()\n"
   ]
  },
  {
   "cell_type": "code",
   "execution_count": null,
   "metadata": {},
   "outputs": [
    {
     "data": {
      "image/png": "[encoded data removed]",
      "text/plain": [
       "<Figure size 1080x360 with 1 Axes>"
      ]
     },
     "metadata": {
      "needs_background": "light"
     },
     "output_type": "display_data"
    }
   ],
   "source": [
    "plt.figure(figsize=(15,5))\n",
    "plt.hist([t.hour for t in sleep['date']], bins = np.arange(24)-0.5, rwidth = 0.8)\n",
    "plt.xticks(np.arange(0,24 , step=1))\n",
    "plt.xlabel('Military Time (hr)')\n",
    "plt.ylabel('# of Sleep Measurements')\n",
    "plt.title('At what time did the patient log a sleep measurement?')\n",
    "plt.axis([-0.6, 24, 0, 25])\n",
    "\n",
    "plt.show()"
   ]
  },
  {
   "cell_type": "code",
   "execution_count": null,
   "metadata": {},
   "outputs": [
    {
     "data": {
      "image/png": "[encoded data removed]",
      "text/plain": [
       "<Figure size 1080x360 with 1 Axes>"
      ]
     },
     "metadata": {
      "needs_background": "light"
     },
     "output_type": "display_data"
    }
   ],
   "source": [
    "plt.figure(figsize=(15,5))\n",
    "plt.hist([t.hour for t in rumination['date']], bins = np.arange(24)-0.5, rwidth = 0.8)\n",
    "plt.xticks(np.arange(0,24 , step=1))\n",
    "plt.xlabel('Military Time (hr)')\n",
    "plt.ylabel('# of Rumination Measurements')\n",
    "plt.title('At what time did the patient log a rumination measurement?')\n",
    "plt.axis([-0.6, 24, 0, 25])\n",
    "\n",
    "plt.show()"
   ]
  },
  {
   "cell_type": "code",
   "execution_count": null,
   "metadata": {},
   "outputs": [],
   "source": [
    "plt.figure(figsize=(15,5))\n",
    "plt.hist([t.hour for t in stress['date']], bins = np.arange(24)-0.5, rwidth = 0.8)\n",
    "plt.xticks(np.arange(0,24 , step=1))\n",
    "plt.xlabel('Military Time (hr)')\n",
    "plt.ylabel('# of Stress Measurements')\n",
    "plt.title('At what time did the patient log a stress measurement?')\n",
    "plt.axis([-0.6, 24, 0, 25])\n",
    "\n",
    "plt.show()"
   ]
  },
  {
   "cell_type": "markdown",
   "metadata": {},
   "source": [
    "Interesting, for the mood and sleep measurements, they usually occur after noon, while the stress and rumination measurements seem to occur from midnight to around 2 am. Let's take a look at the ratings at each of the time periods:"
   ]
  },
  {
   "cell_type": "code",
   "execution_count": null,
   "metadata": {},
   "outputs": [],
   "source": [
    "group_date = [dt.datetime.strftime(e, '%H') for e in mood['date']]\n",
    "mood_hour = mood.groupby(group_date).apply(lambda x: x['value']).reset_index()\n",
    "del mood_hour['level_1']\n",
    "mood_hour = mood_hour.rename(index=str, columns={\"level_0\": \"hour\", \"value\": \"value\"})\n",
    "\n",
    "group_date2 = [dt.datetime.strftime(e, '%H') for e in sleep['date']]\n",
    "sleep_hour = sleep.groupby(group_date2).apply(lambda x: x['value']).reset_index()\n",
    "del sleep_hour['level_1']\n",
    "sleep_hour = sleep_hour.rename(index=str, columns={\"level_0\": \"hour\", \"value\": \"value\"})\n",
    "\n",
    "group_date3 = [dt.datetime.strftime(e, '%H') for e in rumination['date']]\n",
    "rum_hour = rumination.groupby(group_date3).apply(lambda x: x['value']).reset_index()\n",
    "del rum_hour['level_1']\n",
    "rum_hour = rum_hour.rename(index=str, columns={\"level_0\": \"hour\", \"value\": \"value\"})\n",
    "\n",
    "group_date4 = [dt.datetime.strftime(e, '%H') for e in stress['date']]\n",
    "stress_hour = stress.groupby(group_date4).apply(lambda x: x['value']).reset_index()\n",
    "del stress_hour['level_1']\n",
    "stress_hour = stress_hour.rename(index=str, columns={\"level_0\": \"hour\", \"value\": \"value\"})\n"
   ]
  },
  {
   "cell_type": "code",
   "execution_count": null,
   "metadata": {},
   "outputs": [],
   "source": [
    "fig, ax = plt.subplots(figsize = (15,8))\n",
    "fig = sns.boxplot(x=\"hour\", y=\"value\", data=mood_hour, ax=ax, palette=sns.light_palette(\"orange\"))\n",
    "fig = sns.swarmplot(x=\"hour\", y=\"value\", data=mood_hour, color=\"red\", edgecolor=\"grey\")\n",
    "\n",
    "x_dates = mood_hour['hour'].unique()\n",
    "ax.set(title=\"What mood ratings are typically logged at a given hour in the day?\")\n",
    "ax.set_xticklabels(labels=x_dates, rotation=0, ha='center')\n",
    "ax.set(xlabel='Military Time (hr)', ylabel='Mood Rating')\n",
    "ax.set(ylim=(0.5, 5.5))"
   ]
  },
  {
   "cell_type": "code",
   "execution_count": null,
   "metadata": {},
   "outputs": [],
   "source": [
    "fig, ax = plt.subplots(figsize = (15,8))\n",
    "fig = sns.boxplot(x=\"hour\", y=\"value\", data=sleep_hour, ax=ax, palette=sns.light_palette(\"orange\"))\n",
    "fig = sns.swarmplot(x=\"hour\", y=\"value\", data=sleep_hour, color=\"red\", edgecolor=\"grey\")\n",
    "\n",
    "x_dates = sleep_hour['hour'].unique()\n",
    "ax.set(title=\"What sleep ratings are typically logged at a given hour in the day?\")\n",
    "ax.set_xticklabels(labels=x_dates, rotation=0, ha='center')\n",
    "ax.set(xlabel='Military Time (hr)', ylabel='Sleep Rating')\n",
    "ax.set(ylim=(0.5, 5.5))"
   ]
  },
  {
   "cell_type": "markdown",
   "metadata": {},
   "source": [
    "For mood and sleep, there doesn't seem to be too much variation in the ratings for a given hour. However the data show that the notification at 8am is not necessarily effective as the patient usually logs after noon."
   ]
  },
  {
   "cell_type": "code",
   "execution_count": null,
   "metadata": {},
   "outputs": [],
   "source": [
    "fig, ax = plt.subplots(figsize = (15,8))\n",
    "fig = sns.boxplot(x=\"hour\", y=\"value\", data=rum_hour, ax=ax, palette=sns.light_palette(\"orange\"))\n",
    "fig = sns.swarmplot(x=\"hour\", y=\"value\", data=rum_hour, color=\"red\", edgecolor=\"grey\")\n",
    "\n",
    "x_dates = rum_hour['hour'].unique()\n",
    "ax.set(title=\"What rumination severity is typically logged at a given hour in the day?\")\n",
    "ax.set_xticklabels(labels=x_dates, rotation=0, ha='center')\n",
    "ax.set(xlabel='Military Time (hr)', ylabel='Rumination Severity')\n",
    "ax.set(ylim=(0.5, 5.5))"
   ]
  },
  {
   "cell_type": "code",
   "execution_count": null,
   "metadata": {},
   "outputs": [],
   "source": [
    "fig, ax = plt.subplots(figsize = (15,8))\n",
    "fig = sns.boxplot(x=\"hour\", y=\"value\", data=stress_hour, ax=ax, palette=sns.light_palette(\"orange\"))\n",
    "fig = sns.swarmplot(x=\"hour\", y=\"value\", data=stress_hour, color=\"red\", edgecolor=\"grey\")\n",
    "\n",
    "x_dates = stress_hour['hour'].unique()\n",
    "ax.set(title=\"What stress severity is typically logged at a given hour in the day?\")\n",
    "ax.set_xticklabels(labels=x_dates, rotation=0, ha='center')\n",
    "ax.set(xlabel='Military Time (hr)', ylabel='Stress Severity')\n",
    "ax.set(ylim=(0.5, 5.5))"
   ]
  },
  {
   "cell_type": "markdown",
   "metadata": {},
   "source": [
    "As we predicted, the rumination and stress severity seems to be the highest when it is recorded at midnight, 1 am, and 2 am. A sign of progress may mean less entries past midnight for rumination and stress. It is interesting to note that the patient logs stress and rumination at similar times and separately logs mood and sleep."
   ]
  },
  {
   "cell_type": "markdown",
   "metadata": {},
   "source": [
    " ### Conclusion"
   ]
  },
  {
   "cell_type": "markdown",
   "metadata": {},
   "source": [
    "Using the four metrics, we were able to uncover findings both in patient progress and behaviors in the patient. \n",
    "\n",
    "#### Patient Progress\n",
    "Unfortunately, the relationships in the progress data were not too strong, due to the amount of data that is available. However, from our exploratory analysis, I hypothesize that the might exist a relationship between frequency of app usage and wellness in the four areas, noting the lack of data from April to June.\n",
    "\n",
    "#### Supplementary findings\n",
    "We resolved our hunch that higher stress and rumination logging occurs in the late hours, and perhaps progress can be seen if this type of logging decreases.\n",
    "\n",
    "#### Future\n",
    "There needs to be further analysis in:\n",
    "\n",
    "1. Display the number of rumination and stress logging after midnight for each month to track the progress of the patient\n",
    "2. Correlational relationships between the four measurements (is stress related to sleep quality?)\n",
    "3. For the app itself, additional measurements could be taken for appetite (shown to be related to depression), amount of hours slept (may be more objective than subjective sleep rating), and also time of taking medication (some medication is periodic and short-term placebo effects may occur)."
   ]
  }
 ],
 "metadata": {
  "kernelspec": {
   "display_name": "Python 3",
   "language": "python",
   "name": "python3"
  },
  "language_info": {
   "codemirror_mode": {
    "name": "ipython",
    "version": 3
   },
   "file_extension": ".py",
   "mimetype": "text/x-python",
   "name": "python",
   "nbconvert_exporter": "python",
   "pygments_lexer": "ipython3",
   "version": "3.7.3"
  }
 },
 "nbformat": 4,
 "nbformat_minor": 2
}
